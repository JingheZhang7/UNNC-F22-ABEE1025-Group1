{
 "cells": [
  {
   "cell_type": "code",
   "execution_count": null,
   "id": "9d5e8221",
   "metadata": {},
   "outputs": [],
   "source": [
    "from parametric_simulation import run_one_parameter_parametric\n",
    "from post_processor import plot_ID_results\n",
    "import numpy as np\n",
    "\n",
    "eplus_run_path = './eneegyplus9.5/energyplus'\n",
    "idf_path = './IZoneUncontrolled_win_1.idf'\n",
    "output_dir = 'param_exp_1'\n",
    "parameter_key = ['WindowMaterial:SimpleGlazingSystem',\n",
    "                'SimpleWindow:DOUBLE PANE WINDOW',\n",
    "                'solar_heat_gain_coefficient']\n",
    "parameter_vals = [np.arange(0.25,0.75,0.02)]\n",
    "plot_column_name = 'ZONE ONE:Zone Mean Air Temperature [C](TimeStep)'\n",
    "y_axis_title = 'Indoor Air Temperature (C)'\n",
    "plot_title = 'Simulation of Indoor Air Temperature vs. SHGC'\n",
    "\n",
    "output_paths = run_one_parameter_parametric(eplus_run_path, idf_path, output_dir,\n",
    "                                           parameter_key, parameter_vals)\n",
    "print(output_paths)\n",
    "plot_ID_results(outpuot_paths, plot_column_name,\n",
    "               y_axis_title, plot_title)"
   ]
  }
 ],
 "metadata": {
  "kernelspec": {
   "display_name": "Python 3 (ipykernel)",
   "language": "python",
   "name": "python3"
  },
  "language_info": {
   "codemirror_mode": {
    "name": "ipython",
    "version": 3
   },
   "file_extension": ".py",
   "mimetype": "text/x-python",
   "name": "python",
   "nbconvert_exporter": "python",
   "pygments_lexer": "ipython3",
   "version": "3.9.12"
  }
 },
 "nbformat": 4,
 "nbformat_minor": 5
}
